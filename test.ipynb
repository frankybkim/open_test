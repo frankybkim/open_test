{
 "cells": [
  {
   "cell_type": "code",
   "execution_count": 1,
   "metadata": {},
   "outputs": [
    {
     "ename": "ModuleNotFoundError",
     "evalue": "No module named 'tensorflow'",
     "output_type": "error",
     "traceback": [
      "\u001b[0;31m---------------------------------------------------------------------------\u001b[0m",
      "\u001b[0;31mModuleNotFoundError\u001b[0m                       Traceback (most recent call last)",
      "\u001b[0;32m<ipython-input-1-930355f849a0>\u001b[0m in \u001b[0;36m<module>\u001b[0;34m\u001b[0m\n\u001b[0;32m----> 1\u001b[0;31m \u001b[0;32mfrom\u001b[0m \u001b[0mtensorflow\u001b[0m \u001b[0;32mimport\u001b[0m \u001b[0mkeras\u001b[0m\u001b[0;34m\u001b[0m\u001b[0;34m\u001b[0m\u001b[0m\n\u001b[0m\u001b[1;32m      2\u001b[0m \u001b[0;32mfrom\u001b[0m \u001b[0mtensorflow\u001b[0m\u001b[0;34m.\u001b[0m\u001b[0mkeras\u001b[0m \u001b[0;32mimport\u001b[0m \u001b[0mlayers\u001b[0m\u001b[0;34m\u001b[0m\u001b[0;34m\u001b[0m\u001b[0m\n",
      "\u001b[0;31mModuleNotFoundError\u001b[0m: No module named 'tensorflow'"
     ]
    }
   ],
   "source": [
    "from tensorflow import keras\n",
    "from tensorflow.keras import layers"
   ]
  },
  {
   "cell_type": "code",
   "execution_count": null,
   "metadata": {},
   "outputs": [],
   "source": [
    "import tensorflow as tf\n",
    "from tensorflow import keras\n",
    "from tensorflow.keras import layers\n",
    "import numpy as np\n",
    "\n",
    "from keras.preprocessing.text import Tokenizer\n",
    "\n",
    "# Define the parameters for the GPT model\n",
    "vocab_size = 10000\n",
    "max_sequence_length = 100\n",
    "embedding_dim = 256\n",
    "num_heads = 8\n",
    "feedforward_dim = 1024\n",
    "dropout_rate = 0.1\n",
    "activation_function = 'relu'\n",
    "optimizer = keras.optimizers.Adam(learning_rate=0.001)\n",
    "loss_function = keras.losses.SparseCategoricalCrossentropy()\n",
    "metric_function = keras.metrics.SparseCategoricalAccuracy()\n",
    "\n",
    "# Define the GPT model using Keras\n",
    "inputs = layers.Input(shape=(max_sequence_length,))\n",
    "embedding_layer = layers.Embedding(\n",
    "    input_dim=vocab_size, output_dim=embedding_dim, input_length=max_sequence_length\n",
    ")(inputs)\n",
    "transformer_layers = []\n",
    "for i in range(12):\n",
    "    transformer_layers.append(\n",
    "        layers.Transformer(\n",
    "            num_heads=num_heads,\n",
    "            ff_dim=feedforward_dim,\n",
    "            dropout=dropout_rate,\n",
    "            activation=activation_function\n",
    "        )\n",
    "    )\n",
    "transformer_output = embedding_layer\n",
    "for transformer_layer in transformer_layers:\n",
    "    transformer_output = transformer_layer(transformer_output)\n",
    "outputs = layers.Dense(vocab_size, activation='softmax')(transformer_output)\n",
    "model = keras.Model(inputs=inputs, outputs=outputs)\n",
    "model.compile(optimizer=optimizer, loss=loss_function, metrics=metric_function)\n",
    "\n",
    "# Define a function to generate text using the GPT model\n",
    "def generate_text(model, seed_text, num_tokens_to_generate, temperature):\n",
    "    # Tokenize the seed text\n",
    "    seed_tokens = tokenizer.texts_to_sequences([seed_text])[0]\n",
    "\n",
    "    # Generate new tokens one at a time\n",
    "    for i in range(num_tokens_to_generate):\n",
    "        # Pad the input sequence to max_sequence_length\n",
    "        padded_tokens = keras.preprocessing.sequence.pad_sequences([seed_tokens], maxlen=max_sequence_length, padding='pre')\n",
    "\n",
    "        # Use the model to predict the next token\n",
    "        probabilities = model.predict(padded_tokens)[0]\n",
    "        next_token = sample_token(probabilities, temperature)\n",
    "\n",
    "        # Add the next token to the output sequence\n",
    "        seed_tokens.append(next_token)\n",
    "\n",
    "    # Convert the output sequence back to text\n",
    "    output_text = tokenizer.sequences_to_texts([seed_tokens])[0]\n",
    "\n",
    "    return output_text\n",
    "\n",
    "# Define a function to sample the next token from the predicted probability distribution\n",
    "def sample_token(probabilities, temperature):\n",
    "    # Apply temperature to the probabilities\n",
    "    scaled_probabilities = np.log(probabilities) / temperature\n",
    "    scaled_probabilities = np.exp(scaled_probabilities)\n",
    "    probabilities = scaled_probabilities / np.sum(scaled_probabilities)\n",
    "\n",
    "    # Sample the next token from the probabilities\n",
    "    next_token = np.random.choice(len(probabilities), p=probabilities)\n",
    "\n",
    "    return next_token\n",
    "\n",
    "# Define the input text for text generation\n",
    "seed_text = \"The quick brown\"\n",
    "num_tokens_to_generate = 10\n",
    "temperature = 0.7\n",
    "\n",
    "# Generate text using the GPT model\n",
    "generated_text = generate_text(model, seed_text, num_tokens_to_generate, temperature)\n",
    "\n",
    "# Print the generated text\n",
    "print(generated_text)\n"
   ]
  },
  {
   "cell_type": "code",
   "execution_count": null,
   "metadata": {},
   "outputs": [],
   "source": [
    "# Define a function to generate text using the GPT model\n",
    "def generate_text(model, seed_text, num_tokens_to_generate, temperature):\n",
    "    # Tokenize the seed text\n",
    "    seed_tokens = tokenizer.texts_to_sequences([seed_text])[0]\n",
    "\n",
    "    # Generate new tokens one at a time\n",
    "    for i in range(num_tokens_to_generate):\n",
    "        # Pad the input sequence to max_sequence_length\n",
    "        padded_tokens = keras.preprocessing.sequence.pad_sequences([seed_tokens], maxlen=max_sequence_length, padding='pre')\n",
    "\n",
    "        # Use the model to predict the next token\n",
    "        probabilities = model.predict(padded_tokens)[0]\n",
    "        next_token = sample_token(probabilities, temperature)\n",
    "\n",
    "        # Add the next token to the output sequence\n",
    "        seed_tokens.append(next_token)\n",
    "\n",
    "    # Convert the output sequence back to text\n",
    "    output_text = tokenizer.sequences_to_texts([seed_tokens])[0]\n",
    "\n",
    "    return output_text\n",
    "\n",
    "# Define a function to sample the next\n"
   ]
  },
  {
   "cell_type": "code",
   "execution_count": null,
   "metadata": {},
   "outputs": [],
   "source": [
    "# Set the parameters for text generation\n",
    "seed_text = \"The quick brown\"\n",
    "num_tokens_to_generate = 10\n",
    "temperature = 0.7\n",
    "\n",
    "# Generate text using the GPT model\n",
    "generated_text = generate_text(model, seed_text, num_tokens_to_generate, temperature)\n",
    "\n",
    "# Print the generated text\n",
    "print(generated_text)\n"
   ]
  },
  {
   "cell_type": "code",
   "execution_count": null,
   "metadata": {},
   "outputs": [],
   "source": [
    "# Define input layer\n",
    "inputs = layers.Input(shape=(max_sequence_length,))\n",
    "\n",
    "# Define embedding layer\n",
    "embedding_layer = layers.Embedding(\n",
    "    input_dim=vocab_size, output_dim=embedding_dim, input_length=max_sequence_length\n",
    ")(inputs)"
   ]
  },
  {
   "cell_type": "code",
   "execution_count": null,
   "metadata": {},
   "outputs": [],
   "source": [
    "# Define transformer layers\n",
    "num_transformer_layers = 12\n",
    "transformer_layers = []\n",
    "for i in range(num_transformer_layers):\n",
    "    transformer_layers.append(\n",
    "        layers.Transformer(\n",
    "            num_heads=num_heads,\n",
    "            ff_dim=feedforward_dim,\n",
    "            dropout=dropout_rate,\n",
    "            activation=activation_function\n",
    "        )\n",
    "    )"
   ]
  },
  {
   "cell_type": "code",
   "execution_count": null,
   "metadata": {},
   "outputs": [],
   "source": [
    "# Apply transformer layers in a stack\n",
    "transformer_output = embedding_layer\n",
    "for transformer_layer in transformer_layers:\n",
    "    transformer_output = transformer_layer(transformer_output)\n",
    "\n",
    "# Define output layer\n",
    "outputs = layers.Dense(vocab_size, activation='softmax')(transformer_output)\n"
   ]
  },
  {
   "cell_type": "code",
   "execution_count": null,
   "metadata": {},
   "outputs": [],
   "source": [
    "# Define GPT model\n",
    "model = keras.Model(inputs=inputs, outputs=outputs)"
   ]
  },
  {
   "cell_type": "code",
   "execution_count": null,
   "metadata": {},
   "outputs": [],
   "source": [
    "# Compile the model\n",
    "model.compile(optimizer=optimizer, loss=loss_function, metrics=metric_function)"
   ]
  }
 ],
 "metadata": {
  "kernelspec": {
   "display_name": "Python 3",
   "language": "python",
   "name": "python3"
  },
  "language_info": {
   "codemirror_mode": {
    "name": "ipython",
    "version": 3
   },
   "file_extension": ".py",
   "mimetype": "text/x-python",
   "name": "python",
   "nbconvert_exporter": "python",
   "pygments_lexer": "ipython3",
   "version": "3.7.6"
  }
 },
 "nbformat": 4,
 "nbformat_minor": 4
}
